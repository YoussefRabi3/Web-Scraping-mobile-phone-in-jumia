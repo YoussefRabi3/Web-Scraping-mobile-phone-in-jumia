{
 "cells": [
  {
   "cell_type": "code",
   "execution_count": 1,
   "id": "01e21baf",
   "metadata": {},
   "outputs": [],
   "source": [
    "import requests\n",
    "from bs4 import BeautifulSoup\n",
    "import pandas as pd\n"
   ]
  },
  {
   "cell_type": "code",
   "execution_count": 2,
   "id": "239b3704",
   "metadata": {},
   "outputs": [],
   "source": [
    "columns = {'name':[] , 'price':[], 'img url': []}"
   ]
  },
  {
   "cell_type": "code",
   "execution_count": 5,
   "id": "22267916",
   "metadata": {},
   "outputs": [],
   "source": [
    "url = 'https://www.jumia.ma/smartphones/?page=1'\n",
    "r= requests.get(url)\n",
    "soup = BeautifulSoup(r.content,'html.parser')\n",
    "ancher = soup.find('div',{'class':'-paxs row _no-g _4cl-3cm-shs'})\n",
    "ancher = ancher.find_all('article',{'class':'prd _fb col c-prd'})\n",
    "for pt in ancher:\n",
    "        img= pt.find('a').find('div' , {'class' : 'img-c'}).find('img',{'class':'img'})\n",
    "        name = pt.find('a').find('div' , {'class' : 'info'}).find('h3' , {'class' : 'name'})\n",
    "        price = pt.find('a').find('div' , {'class' : 'info'}).find('div' , {'class' : 'prc'})\n",
    "        \n",
    "        columns['img url'].append(img.get('data-src'))\n",
    "        columns['name'].append(name.text)\n",
    "        columns['price'].append(price.text)\n",
    "    \n",
    "        \n",
    "pd.DataFrame(columns).to_excel('data.xlsx')"
   ]
  },
  {
   "cell_type": "code",
   "execution_count": null,
   "id": "3b6f2e2d",
   "metadata": {},
   "outputs": [],
   "source": []
  }
 ],
 "metadata": {
  "kernelspec": {
   "display_name": "Python 3 (ipykernel)",
   "language": "python",
   "name": "python3"
  },
  "language_info": {
   "codemirror_mode": {
    "name": "ipython",
    "version": 3
   },
   "file_extension": ".py",
   "mimetype": "text/x-python",
   "name": "python",
   "nbconvert_exporter": "python",
   "pygments_lexer": "ipython3",
   "version": "3.9.12"
  }
 },
 "nbformat": 4,
 "nbformat_minor": 5
}
